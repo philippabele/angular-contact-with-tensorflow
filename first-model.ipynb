{
 "cells": [
  {
   "cell_type": "code",
   "execution_count": 251,
   "metadata": {},
   "outputs": [],
   "source": [
    "import tensorflow as tf\n",
    "from tensorflow.keras import layers\n",
    "from sklearn.model_selection import train_test_split\n",
    "import pandas as pd\n"
   ]
  },
  {
   "cell_type": "code",
   "execution_count": 252,
   "metadata": {},
   "outputs": [
    {
     "name": "stdout",
     "output_type": "stream",
     "text": [
      "7/7 [==============================] - 0s 4ms/step - loss: 60.2668 - mae: 4106.5039\n",
      "Test loss: [60.266754150390625, 4106.50390625]\n",
      "7/7 [==============================] - 0s 2ms/step\n"
     ]
    }
   ],
   "source": [
    "dataset = pd.read_csv(\"bearing_data.csv\")\n",
    "dataset['Fr'] = dataset['Fr'].astype(float)\n",
    "dataset['n'] = dataset['n'].astype(float)\n",
    "\n",
    "X_train, X_test, y_train, y_test = train_test_split(dataset[['Fr', 'n']], dataset['Lifetime'], shuffle=True, train_size=0.8, test_size=0.2)\n",
    "\n",
    "\n",
    "# Define the model architecture\n",
    "model = tf.keras.Sequential([\n",
    "  layers.Dense(64, activation='relu', input_shape=[2]), \n",
    "  layers.Dense(64, activation='relu'),\n",
    "  layers.Dense(1)\n",
    "])\n",
    "\n",
    "# Compile the model with a suitable loss function and optimizer\n",
    "model.compile(loss='mean_absolute_percentage_error',\n",
    "              optimizer=tf.keras.optimizers.Adam(),\n",
    "              metrics=['mae'],\n",
    "              run_eagerly=True)\n",
    "\n",
    "# Generate some random data for training and testing the model\n",
    "import numpy as np\n",
    "np.random.seed(0)\n",
    "\n",
    "# Train the model on the training data\n",
    "model.fit(X_train, y_train, epochs=10, verbose=0)\n",
    "\n",
    "# Evaluate the model on the test data\n",
    "test_loss = model.evaluate(X_test, y_test)\n",
    "print('Test loss:', test_loss)\n",
    "\n",
    "# Make predictions using the trained model\n",
    "y_pred = model.predict(X_test)\n"
   ]
  },
  {
   "cell_type": "code",
   "execution_count": null,
   "metadata": {},
   "outputs": [],
   "source": []
  }
 ],
 "metadata": {
  "kernelspec": {
   "display_name": "env",
   "language": "python",
   "name": "python3"
  },
  "language_info": {
   "codemirror_mode": {
    "name": "ipython",
    "version": 3
   },
   "file_extension": ".py",
   "mimetype": "text/x-python",
   "name": "python",
   "nbconvert_exporter": "python",
   "pygments_lexer": "ipython3",
   "version": "3.10.9"
  },
  "orig_nbformat": 4,
  "vscode": {
   "interpreter": {
    "hash": "1d81ffc35d174eb38f595ffbc2da43e95ed50476217424fac64dd45a6fbc2052"
   }
  }
 },
 "nbformat": 4,
 "nbformat_minor": 2
}
